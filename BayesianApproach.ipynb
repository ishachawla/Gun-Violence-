{
  "nbformat": 4,
  "nbformat_minor": 0,
  "metadata": {
    "colab": {
      "name": "Untitled1.ipynb",
      "version": "0.3.2",
      "provenance": [],
      "include_colab_link": true
    },
    "kernelspec": {
      "name": "python3",
      "display_name": "Python 3"
    },
    "accelerator": "GPU"
  },
  "cells": [
    {
      "cell_type": "markdown",
      "metadata": {
        "id": "view-in-github",
        "colab_type": "text"
      },
      "source": [
        "[View in Colaboratory](https://colab.research.google.com/github/ishachawla/Gun-Violence-/blob/master/BayesianApproach.ipynb)"
      ]
    },
    {
      "metadata": {
        "id": "lzqTGY3Ew35y",
        "colab_type": "text"
      },
      "cell_type": "markdown",
      "source": [
        
        "# <center> A Bayesian approach to state-wise GunViolence </center>"
      ]
    },
    {
      "metadata": {
        "id": "DRbG8HgUxJ1P",
        "colab_type": "text"
      },
      "cell_type": "markdown",
      "source": [
        "***The main aim of this exercise is to take into considerations events that have happened in different states over the past years, use them as a reference to see how states compare to each other and using posterior distributions to generate some random values and try and determine how states fair again each other.***\n"
      ]
    },
    {
      "metadata": {
        "id": "GJB0CK0lyM0g",
        "colab_type": "text"
      },
      "cell_type": "markdown",
      "source": [
        "**Libraries Used - Pymc3**\n",
        "> PyMC is a python module that implements Bayesian statistical models and fitting algorithms, including Markov chain Monte Carlo. Its flexibility and extensibility make it applicable to a large suite of problems. Along with core sampling functionality, PyMC includes methods for summarizing output, plotting, goodness-of-fit and convergence diagnostics.\n",
        "\n",
        "[*Pymc3 Documentation*]<a> https://pymc-devs.github.io/pymc/README.html</a>"
      ]
    },
    {
      "metadata": {
        "id": "ViOJo-0gzBFD",
        "colab_type": "text"
      },
      "cell_type": "markdown",
      "source": [
        "*The first step here is to load the csv file from my machine and since I am working on Google Collab I had to upload the files to the cloud before I can start working on the data*"
      ]
    },
    {
      "metadata": {
        "id": "Cb98BlnJJGxB",
        "colab_type": "code",
        "colab": {
          "resources": {
            "http://localhost:8080/nbextensions/google.colab/files.js": {
              "data": "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",
              "ok": true,
              "headers": [
                [
                  "content-type",
                  "application/javascript"
                ]
              ],
              "status": 200,
              "status_text": "OK"
            }
          },
          "base_uri": "https://localhost:8080/",
          "height": 76
        },
        "outputId": "589acb43-44ea-44f1-eaf9-5108c0c7e690"
      },
      "cell_type": "code",
      "source": [
        "from google.colab import files\n",
        "files.upload()"
      ],
      "execution_count": 1,
      "outputs": [
        {
          "output_type": "display_data",
          "data": {
            "text/html": [
              "\n",
              "     <input type=\"file\" id=\"files-e9e1648b-2320-4db1-8c0c-6be297417d3f\" name=\"files[]\" multiple disabled />\n",
              "     <output id=\"result-e9e1648b-2320-4db1-8c0c-6be297417d3f\">\n",
              "      Upload widget is only available when the cell has been executed in the\n",
              "      current browser session. Please rerun this cell to enable.\n",
              "      </output>\n",
              "      <script src=\"/nbextensions/google.colab/files.js\"></script> "
            ],
            "text/plain": [
              "<IPython.core.display.HTML object>"
            ]
          },
          "metadata": {
            "tags": []
          }
        },
        {
          "output_type": "stream",
          "text": [
            "Saving stage3.csv to stage3.csv\n"
          ],
          "name": "stdout"
        }
      ]
    },
    {
      "metadata": {
        "id": "xdS420iYJT8F",
        "colab_type": "code",
        "colab": {}
      },
      "cell_type": "code",
      "source": [
        "import pandas as pd"
      ],
      "execution_count": 0,
      "outputs": []
    },
    {
      "metadata": {
        "id": "81xkKRDTJkWY",
        "colab_type": "code",
        "colab": {
          "base_uri": "https://localhost:8080/",
          "height": 36
        },
        "outputId": "45dd9cb8-545d-4632-b454-b38e0dd4113b"
      },
      "cell_type": "code",
      "source": [
        "files.os.listdir()"
      ],
      "execution_count": 3,
      "outputs": [
        {
          "output_type": "execute_result",
          "data": {
            "text/plain": [
              "['datalab', '.config', '.cache', '.local', '.ipython', '.forever']"
            ]
          },
          "metadata": {
            "tags": []
          },
          "execution_count": 3
        }
      ]
    },
    {
      "metadata": {
        "id": "S8ltb1-bJhQh",
        "colab_type": "code",
        "colab": {}
      },
      "cell_type": "code",
      "source": [
        "df=pd.read_csv(\"stage3.csv\",parse_dates=['date'],infer_datetime_format=True)"
      ],
      "execution_count": 0,
      "outputs": []
    },
    {
      "metadata": {
        "id": "o7wPtRQrMisp",
        "colab_type": "code",
        "colab": {
          "base_uri": "https://localhost:8080/",
          "height": 551
        },
        "outputId": "f3f0e68d-3618-467b-c57b-155fe1a7be75"
      },
      "cell_type": "code",
      "source": [
        "df.head()"
      ],
      "execution_count": 4,
      "outputs": [
        {
          "output_type": "execute_result",
          "data": {
            "text/html": [
              "<div>\n",
              "<style scoped>\n",
              "    .dataframe tbody tr th:only-of-type {\n",
              "        vertical-align: middle;\n",
              "    }\n",
              "\n",
              "    .dataframe tbody tr th {\n",
              "        vertical-align: top;\n",
              "    }\n",
              "\n",
              "    .dataframe thead th {\n",
              "        text-align: right;\n",
              "    }\n",
              "</style>\n",
              "<table border=\"1\" class=\"dataframe\">\n",
              "  <thead>\n",
              "    <tr style=\"text-align: right;\">\n",
              "      <th></th>\n",
              "      <th>incident_id</th>\n",
              "      <th>date</th>\n",
              "      <th>state</th>\n",
              "      <th>city_or_county</th>\n",
              "      <th>address</th>\n",
              "      <th>n_killed</th>\n",
              "      <th>n_injured</th>\n",
              "      <th>incident_url</th>\n",
              "      <th>source_url</th>\n",
              "      <th>incident_url_fields_missing</th>\n",
              "      <th>...</th>\n",
              "      <th>participant_age</th>\n",
              "      <th>participant_age_group</th>\n",
              "      <th>participant_gender</th>\n",
              "      <th>participant_name</th>\n",
              "      <th>participant_relationship</th>\n",
              "      <th>participant_status</th>\n",
              "      <th>participant_type</th>\n",
              "      <th>sources</th>\n",
              "      <th>state_house_district</th>\n",
              "      <th>state_senate_district</th>\n",
              "    </tr>\n",
              "  </thead>\n",
              "  <tbody>\n",
              "    <tr>\n",
              "      <th>0</th>\n",
              "      <td>461105</td>\n",
              "      <td>2013-01-01</td>\n",
              "      <td>Pennsylvania</td>\n",
              "      <td>Mckeesport</td>\n",
              "      <td>1506 Versailles Avenue and Coursin Street</td>\n",
              "      <td>0</td>\n",
              "      <td>4</td>\n",
              "      <td>http://www.gunviolencearchive.org/incident/461105</td>\n",
              "      <td>http://www.post-gazette.com/local/south/2013/0...</td>\n",
              "      <td>False</td>\n",
              "      <td>...</td>\n",
              "      <td>0::20</td>\n",
              "      <td>0::Adult 18+||1::Adult 18+||2::Adult 18+||3::A...</td>\n",
              "      <td>0::Male||1::Male||3::Male||4::Female</td>\n",
              "      <td>0::Julian Sims</td>\n",
              "      <td>NaN</td>\n",
              "      <td>0::Arrested||1::Injured||2::Injured||3::Injure...</td>\n",
              "      <td>0::Victim||1::Victim||2::Victim||3::Victim||4:...</td>\n",
              "      <td>http://pittsburgh.cbslocal.com/2013/01/01/4-pe...</td>\n",
              "      <td>NaN</td>\n",
              "      <td>NaN</td>\n",
              "    </tr>\n",
              "    <tr>\n",
              "      <th>1</th>\n",
              "      <td>460726</td>\n",
              "      <td>2013-01-01</td>\n",
              "      <td>California</td>\n",
              "      <td>Hawthorne</td>\n",
              "      <td>13500 block of Cerise Avenue</td>\n",
              "      <td>1</td>\n",
              "      <td>3</td>\n",
              "      <td>http://www.gunviolencearchive.org/incident/460726</td>\n",
              "      <td>http://www.dailybulletin.com/article/zz/201301...</td>\n",
              "      <td>False</td>\n",
              "      <td>...</td>\n",
              "      <td>0::20</td>\n",
              "      <td>0::Adult 18+||1::Adult 18+||2::Adult 18+||3::A...</td>\n",
              "      <td>0::Male</td>\n",
              "      <td>0::Bernard Gillis</td>\n",
              "      <td>NaN</td>\n",
              "      <td>0::Killed||1::Injured||2::Injured||3::Injured</td>\n",
              "      <td>0::Victim||1::Victim||2::Victim||3::Victim||4:...</td>\n",
              "      <td>http://losangeles.cbslocal.com/2013/01/01/man-...</td>\n",
              "      <td>62.0</td>\n",
              "      <td>35.0</td>\n",
              "    </tr>\n",
              "    <tr>\n",
              "      <th>2</th>\n",
              "      <td>478855</td>\n",
              "      <td>2013-01-01</td>\n",
              "      <td>Ohio</td>\n",
              "      <td>Lorain</td>\n",
              "      <td>1776 East 28th Street</td>\n",
              "      <td>1</td>\n",
              "      <td>3</td>\n",
              "      <td>http://www.gunviolencearchive.org/incident/478855</td>\n",
              "      <td>http://chronicle.northcoastnow.com/2013/02/14/...</td>\n",
              "      <td>False</td>\n",
              "      <td>...</td>\n",
              "      <td>0::25||1::31||2::33||3::34||4::33</td>\n",
              "      <td>0::Adult 18+||1::Adult 18+||2::Adult 18+||3::A...</td>\n",
              "      <td>0::Male||1::Male||2::Male||3::Male||4::Male</td>\n",
              "      <td>0::Damien Bell||1::Desmen Noble||2::Herman Sea...</td>\n",
              "      <td>NaN</td>\n",
              "      <td>0::Injured, Unharmed, Arrested||1::Unharmed, A...</td>\n",
              "      <td>0::Subject-Suspect||1::Subject-Suspect||2::Vic...</td>\n",
              "      <td>http://www.morningjournal.com/general-news/201...</td>\n",
              "      <td>56.0</td>\n",
              "      <td>13.0</td>\n",
              "    </tr>\n",
              "    <tr>\n",
              "      <th>3</th>\n",
              "      <td>478925</td>\n",
              "      <td>2013-01-05</td>\n",
              "      <td>Colorado</td>\n",
              "      <td>Aurora</td>\n",
              "      <td>16000 block of East Ithaca Place</td>\n",
              "      <td>4</td>\n",
              "      <td>0</td>\n",
              "      <td>http://www.gunviolencearchive.org/incident/478925</td>\n",
              "      <td>http://www.dailydemocrat.com/20130106/aurora-s...</td>\n",
              "      <td>False</td>\n",
              "      <td>...</td>\n",
              "      <td>0::29||1::33||2::56||3::33</td>\n",
              "      <td>0::Adult 18+||1::Adult 18+||2::Adult 18+||3::A...</td>\n",
              "      <td>0::Female||1::Male||2::Male||3::Male</td>\n",
              "      <td>0::Stacie Philbrook||1::Christopher Ratliffe||...</td>\n",
              "      <td>NaN</td>\n",
              "      <td>0::Killed||1::Killed||2::Killed||3::Killed</td>\n",
              "      <td>0::Victim||1::Victim||2::Victim||3::Subject-Su...</td>\n",
              "      <td>http://denver.cbslocal.com/2013/01/06/officer-...</td>\n",
              "      <td>40.0</td>\n",
              "      <td>28.0</td>\n",
              "    </tr>\n",
              "    <tr>\n",
              "      <th>4</th>\n",
              "      <td>478959</td>\n",
              "      <td>2013-01-07</td>\n",
              "      <td>North Carolina</td>\n",
              "      <td>Greensboro</td>\n",
              "      <td>307 Mourning Dove Terrace</td>\n",
              "      <td>2</td>\n",
              "      <td>2</td>\n",
              "      <td>http://www.gunviolencearchive.org/incident/478959</td>\n",
              "      <td>http://www.journalnow.com/news/local/article_d...</td>\n",
              "      <td>False</td>\n",
              "      <td>...</td>\n",
              "      <td>0::18||1::46||2::14||3::47</td>\n",
              "      <td>0::Adult 18+||1::Adult 18+||2::Teen 12-17||3::...</td>\n",
              "      <td>0::Female||1::Male||2::Male||3::Female</td>\n",
              "      <td>0::Danielle Imani Jameison||1::Maurice Eugene ...</td>\n",
              "      <td>3::Family</td>\n",
              "      <td>0::Injured||1::Injured||2::Killed||3::Killed</td>\n",
              "      <td>0::Victim||1::Victim||2::Victim||3::Subject-Su...</td>\n",
              "      <td>http://myfox8.com/2013/01/08/update-mother-sho...</td>\n",
              "      <td>62.0</td>\n",
              "      <td>27.0</td>\n",
              "    </tr>\n",
              "  </tbody>\n",
              "</table>\n",
              "<p>5 rows × 29 columns</p>\n",
              "</div>"
            ],
            "text/plain": [
              "   incident_id       date           state city_or_county  \\\n",
              "0       461105 2013-01-01    Pennsylvania     Mckeesport   \n",
              "1       460726 2013-01-01      California      Hawthorne   \n",
              "2       478855 2013-01-01            Ohio         Lorain   \n",
              "3       478925 2013-01-05        Colorado         Aurora   \n",
              "4       478959 2013-01-07  North Carolina     Greensboro   \n",
              "\n",
              "                                     address  n_killed  n_injured  \\\n",
              "0  1506 Versailles Avenue and Coursin Street         0          4   \n",
              "1               13500 block of Cerise Avenue         1          3   \n",
              "2                      1776 East 28th Street         1          3   \n",
              "3           16000 block of East Ithaca Place         4          0   \n",
              "4                  307 Mourning Dove Terrace         2          2   \n",
              "\n",
              "                                        incident_url  \\\n",
              "0  http://www.gunviolencearchive.org/incident/461105   \n",
              "1  http://www.gunviolencearchive.org/incident/460726   \n",
              "2  http://www.gunviolencearchive.org/incident/478855   \n",
              "3  http://www.gunviolencearchive.org/incident/478925   \n",
              "4  http://www.gunviolencearchive.org/incident/478959   \n",
              "\n",
              "                                          source_url  \\\n",
              "0  http://www.post-gazette.com/local/south/2013/0...   \n",
              "1  http://www.dailybulletin.com/article/zz/201301...   \n",
              "2  http://chronicle.northcoastnow.com/2013/02/14/...   \n",
              "3  http://www.dailydemocrat.com/20130106/aurora-s...   \n",
              "4  http://www.journalnow.com/news/local/article_d...   \n",
              "\n",
              "   incident_url_fields_missing          ...           \\\n",
              "0                        False          ...            \n",
              "1                        False          ...            \n",
              "2                        False          ...            \n",
              "3                        False          ...            \n",
              "4                        False          ...            \n",
              "\n",
              "                     participant_age  \\\n",
              "0                              0::20   \n",
              "1                              0::20   \n",
              "2  0::25||1::31||2::33||3::34||4::33   \n",
              "3         0::29||1::33||2::56||3::33   \n",
              "4         0::18||1::46||2::14||3::47   \n",
              "\n",
              "                               participant_age_group  \\\n",
              "0  0::Adult 18+||1::Adult 18+||2::Adult 18+||3::A...   \n",
              "1  0::Adult 18+||1::Adult 18+||2::Adult 18+||3::A...   \n",
              "2  0::Adult 18+||1::Adult 18+||2::Adult 18+||3::A...   \n",
              "3  0::Adult 18+||1::Adult 18+||2::Adult 18+||3::A...   \n",
              "4  0::Adult 18+||1::Adult 18+||2::Teen 12-17||3::...   \n",
              "\n",
              "                            participant_gender  \\\n",
              "0         0::Male||1::Male||3::Male||4::Female   \n",
              "1                                      0::Male   \n",
              "2  0::Male||1::Male||2::Male||3::Male||4::Male   \n",
              "3         0::Female||1::Male||2::Male||3::Male   \n",
              "4       0::Female||1::Male||2::Male||3::Female   \n",
              "\n",
              "                                    participant_name  \\\n",
              "0                                     0::Julian Sims   \n",
              "1                                  0::Bernard Gillis   \n",
              "2  0::Damien Bell||1::Desmen Noble||2::Herman Sea...   \n",
              "3  0::Stacie Philbrook||1::Christopher Ratliffe||...   \n",
              "4  0::Danielle Imani Jameison||1::Maurice Eugene ...   \n",
              "\n",
              "   participant_relationship  \\\n",
              "0                       NaN   \n",
              "1                       NaN   \n",
              "2                       NaN   \n",
              "3                       NaN   \n",
              "4                 3::Family   \n",
              "\n",
              "                                  participant_status  \\\n",
              "0  0::Arrested||1::Injured||2::Injured||3::Injure...   \n",
              "1      0::Killed||1::Injured||2::Injured||3::Injured   \n",
              "2  0::Injured, Unharmed, Arrested||1::Unharmed, A...   \n",
              "3         0::Killed||1::Killed||2::Killed||3::Killed   \n",
              "4       0::Injured||1::Injured||2::Killed||3::Killed   \n",
              "\n",
              "                                    participant_type  \\\n",
              "0  0::Victim||1::Victim||2::Victim||3::Victim||4:...   \n",
              "1  0::Victim||1::Victim||2::Victim||3::Victim||4:...   \n",
              "2  0::Subject-Suspect||1::Subject-Suspect||2::Vic...   \n",
              "3  0::Victim||1::Victim||2::Victim||3::Subject-Su...   \n",
              "4  0::Victim||1::Victim||2::Victim||3::Subject-Su...   \n",
              "\n",
              "                                             sources state_house_district  \\\n",
              "0  http://pittsburgh.cbslocal.com/2013/01/01/4-pe...                  NaN   \n",
              "1  http://losangeles.cbslocal.com/2013/01/01/man-...                 62.0   \n",
              "2  http://www.morningjournal.com/general-news/201...                 56.0   \n",
              "3  http://denver.cbslocal.com/2013/01/06/officer-...                 40.0   \n",
              "4  http://myfox8.com/2013/01/08/update-mother-sho...                 62.0   \n",
              "\n",
              "  state_senate_district  \n",
              "0                   NaN  \n",
              "1                  35.0  \n",
              "2                  13.0  \n",
              "3                  28.0  \n",
              "4                  27.0  \n",
              "\n",
              "[5 rows x 29 columns]"
            ]
          },
          "metadata": {
            "tags": []
          },
          "execution_count": 4
        }
      ]
    },
    {
      "metadata": {
        "id": "LeHuYTppbwje",
        "colab_type": "code",
        "colab": {}
      },
      "cell_type": "code",
      "source": [
        "import nltk\n",
        "from nltk.tokenize import word_tokenize\n",
        "from nltk.corpus import stopwords\n",
        "import string"
      ],
      "execution_count": 0,
      "outputs": []
    },
    {
      "metadata": {
        "id": "S8jN4Mlu18Q_",
        "colab_type": "code",
        "colab": {}
      },
      "cell_type": "code",
      "source": [
        "import numpy as np\n",
        "import seaborn as sb\n",
        "import matplotlib.pyplot as plt\n",
        "import decimal\n",
        "%matplotlib inline"
      ],
      "execution_count": 0,
      "outputs": []
    },
    {
      "metadata": {
        "id": "Y5sgRW-m2V5F",
        "colab_type": "code",
        "colab": {
          "base_uri": "https://localhost:8080/",
          "height": 512
        },
        "outputId": "6e70453a-8fc0-4d03-893d-3937a2ac185f"
      },
      "cell_type": "code",
      "source": [
        "!pip install pymc3"
      ],
      "execution_count": 7,
      "outputs": [
        {
          "output_type": "stream",
          "text": [
            "Collecting pymc3\n",
            "\u001b[?25l  Downloading https://files.pythonhosted.org/packages/69/a9/f70526eacd82ff917c00dd2d979f6e240ad8b31ff18f11205e04f6c8074c/pymc3-3.5-py3-none-any.whl (1.3MB)\n",
            "\u001b[K    100% |████████████████████████████████| 1.3MB 5.7MB/s \n",
            "\u001b[?25hRequirement already satisfied: h5py>=2.7.0 in /usr/local/lib/python3.6/dist-packages (from pymc3) (2.8.0)\n",
            "Requirement already satisfied: pandas>=0.18.0 in /usr/local/lib/python3.6/dist-packages (from pymc3) (0.22.0)\n",
            "Collecting tqdm>=4.8.4 (from pymc3)\n",
            "\u001b[?25l  Downloading https://files.pythonhosted.org/packages/7d/e6/19dfaff08fcbee7f3453e5b537e65a8364f1945f921a36d08be1e2ff3475/tqdm-4.24.0-py2.py3-none-any.whl (43kB)\n",
            "\u001b[K    100% |████████████████████████████████| 51kB 19.5MB/s \n",
            "\u001b[?25hCollecting joblib>=0.9 (from pymc3)\n",
            "\u001b[?25l  Downloading https://files.pythonhosted.org/packages/f6/26/317725ffd9e8e8c0eb4b2fc77614f52045ddfc1c5026387fbefef9050eec/joblib-0.12.2-py2.py3-none-any.whl (269kB)\n",
            "\u001b[K    100% |████████████████████████████████| 276kB 11.1MB/s \n",
            "\u001b[?25hRequirement already satisfied: six>=1.10.0 in /usr/local/lib/python3.6/dist-packages (from pymc3) (1.11.0)\n",
            "Requirement already satisfied: patsy>=0.4.0 in /usr/local/lib/python3.6/dist-packages (from pymc3) (0.5.0)\n",
            "Collecting theano>=1.0.0 (from pymc3)\n",
            "\u001b[?25l  Downloading https://files.pythonhosted.org/packages/99/dd/e43e3da5dd52f1468def552ed3e752bfd6958369478cc906ff07b21af92e/Theano-1.0.2.tar.gz (2.8MB)\n",
            "\u001b[K    100% |████████████████████████████████| 2.8MB 9.4MB/s \n",
            "\u001b[?25hRequirement already satisfied: numpy>=1.13.0 in /usr/local/lib/python3.6/dist-packages (from pymc3) (1.14.5)\n",
            "Requirement already satisfied: pytz>=2011k in /usr/local/lib/python3.6/dist-packages (from pandas>=0.18.0->pymc3) (2018.5)\n",
            "Requirement already satisfied: python-dateutil>=2 in /usr/local/lib/python3.6/dist-packages (from pandas>=0.18.0->pymc3) (2.5.3)\n",
            "Requirement already satisfied: scipy>=0.14 in /usr/local/lib/python3.6/dist-packages (from theano>=1.0.0->pymc3) (0.19.1)\n",
            "Building wheels for collected packages: theano\n",
            "  Running setup.py bdist_wheel for theano ... \u001b[?25l-\b \b\\\b \b|\b \b/\b \b-\b \b\\\b \b|\b \b/\b \b-\b \bdone\n",
            "\u001b[?25h  Stored in directory: /content/.cache/pip/wheels/87/1e/28/4a63195927452fb42d4ea6d1e5b3b1690409d66802cc9e1e6e\n",
            "Successfully built theano\n",
            "Installing collected packages: tqdm, joblib, theano, pymc3\n",
            "Successfully installed joblib-0.12.2 pymc3-3.5 theano-1.0.2 tqdm-4.24.0\n"
          ],
          "name": "stdout"
        }
      ]
    },
    {
      "metadata": {
        "id": "7wol_QN92MIE",
        "colab_type": "code",
        "colab": {}
      },
      "cell_type": "code",
      "source": [
        "import itertools\n",
        "import pymc3 as pm\n",
        "import scipy\n",
        "import scipy.stats as stats\n",
        "import seaborn.apionly as sns\n",
        "\n",
        "from IPython.display import Image\n",
        "from sklearn import preprocessing"
      ],
      "execution_count": 0,
      "outputs": []
    },
    {
      "metadata": {
        "id": "sijCQQUgze6j",
        "colab_type": "text"
      },
      "cell_type": "markdown",
      "source": [
        "*Once I have my data the next step is to take into consideration  only the columns that we need, for the purpose of this we just need the states, the incidents that happened and how many people got injured or killed in that particular instance*"
      ]
    },
    {
      "metadata": {
        "id": "_g9JYFwv2efq",
        "colab_type": "code",
        "colab": {
          "base_uri": "https://localhost:8080/",
          "height": 75
        },
        "outputId": "ace4263e-3aa4-4b0c-ffa8-0f749e7b55cd"
      },
      "cell_type": "code",
      "source": [
        "#A lot of these columns are not required for our analysis and a lot of them have more null values\n",
        "#than we can fill so our first step will be eliminating these values.\n",
        "print(list(df))\n",
        "df=df.drop(['address','incident_url','source_url', 'incident_url_fields_missing', 'congressional_district','sources', 'state_house_district', 'state_senate_district','participant_relationship','participant_name','gun_stolen','latitude','longitude'],axis=1)\n",
        "print(\"The total number of columns after dropping unnecessary columns are\",df.shape[1])"
      ],
      "execution_count": 9,
      "outputs": [
        {
          "output_type": "stream",
          "text": [
            "['incident_id', 'date', 'state', 'city_or_county', 'address', 'n_killed', 'n_injured', 'incident_url', 'source_url', 'incident_url_fields_missing', 'congressional_district', 'gun_stolen', 'gun_type', 'incident_characteristics', 'latitude', 'location_description', 'longitude', 'n_guns_involved', 'notes', 'participant_age', 'participant_age_group', 'participant_gender', 'participant_name', 'participant_relationship', 'participant_status', 'participant_type', 'sources', 'state_house_district', 'state_senate_district']\n",
            "The total number of columns after dropping unnecessary columns are 16\n"
          ],
          "name": "stdout"
        }
      ]
    },
    {
      "metadata": {
        "id": "ONnZLAWJ2vlO",
        "colab_type": "code",
        "colab": {
          "base_uri": "https://localhost:8080/",
          "height": 112
        },
        "outputId": "a9736412-705f-4a68-ab8e-9242537c968f"
      },
      "cell_type": "code",
      "source": [
        "#Filling the blanks to get to better results, for the number of guns involved use the median\n",
        "df['n_guns_involved'][df['n_guns_involved'].isnull()]=df['n_guns_involved'].median()"
      ],
      "execution_count": 10,
      "outputs": [
        {
          "output_type": "stream",
          "text": [
            "/usr/local/lib/python3.6/dist-packages/ipykernel_launcher.py:1: SettingWithCopyWarning: \n",
            "A value is trying to be set on a copy of a slice from a DataFrame\n",
            "\n",
            "See the caveats in the documentation: http://pandas.pydata.org/pandas-docs/stable/indexing.html#indexing-view-versus-copy\n",
            "  \"\"\"Entry point for launching an IPython kernel.\n"
          ],
          "name": "stderr"
        }
      ]
    },
    {
      "metadata": {
        "id": "rXuWc-Bm21MX",
        "colab_type": "code",
        "colab": {
          "base_uri": "https://localhost:8080/",
          "height": 36
        },
        "outputId": "0c8044b4-eb70-49e4-8245-1e32f35fe57e"
      },
      "cell_type": "code",
      "source": [
        "df.shape"
      ],
      "execution_count": 11,
      "outputs": [
        {
          "output_type": "execute_result",
          "data": {
            "text/plain": [
              "(239677, 16)"
            ]
          },
          "metadata": {
            "tags": []
          },
          "execution_count": 11
        }
      ]
    },
    {
      "metadata": {
        "id": "9SqTpart23M8",
        "colab_type": "code",
        "colab": {}
      },
      "cell_type": "code",
      "source": [
        "x2=df[['state','n_killed','n_injured']]"
      ],
      "execution_count": 0,
      "outputs": []
    },
    {
      "metadata": {
        "id": "r3W5DRxL0ET9",
        "colab_type": "text"
      },
      "cell_type": "markdown",
      "source": [
        "*Before we start working with pymc3, we need to remember that states is not really numerical data, and pymc3 cannot work with categorical data, so we initalize Label Encoder to get a value assosciated with the States*"
      ]
    },
    {
      "metadata": {
        "id": "sG4oIOIr3Vfu",
        "colab_type": "code",
        "colab": {
          "base_uri": "https://localhost:8080/",
          "height": 207
        },
        "outputId": "706c1fa0-c1a5-4960-e30b-f29bc8cf3e6f"
      },
      "cell_type": "code",
      "source": [
        "pre = preprocessing.LabelEncoder()\n",
        "participants_idx = pre.fit_transform(x2['state'])\n",
        "states = pre.classes_\n",
        "total_states = len(states)\n",
        "print(\"Labels:\",states)\n",
        "print(\"Total number of labels:\",total_states)"
      ],
      "execution_count": 13,
      "outputs": [
        {
          "output_type": "stream",
          "text": [
            "Labels: ['Alabama' 'Alaska' 'Arizona' 'Arkansas' 'California' 'Colorado'\n",
            " 'Connecticut' 'Delaware' 'District of Columbia' 'Florida' 'Georgia'\n",
            " 'Hawaii' 'Idaho' 'Illinois' 'Indiana' 'Iowa' 'Kansas' 'Kentucky'\n",
            " 'Louisiana' 'Maine' 'Maryland' 'Massachusetts' 'Michigan' 'Minnesota'\n",
            " 'Mississippi' 'Missouri' 'Montana' 'Nebraska' 'Nevada' 'New Hampshire'\n",
            " 'New Jersey' 'New Mexico' 'New York' 'North Carolina' 'North Dakota'\n",
            " 'Ohio' 'Oklahoma' 'Oregon' 'Pennsylvania' 'Rhode Island' 'South Carolina'\n",
            " 'South Dakota' 'Tennessee' 'Texas' 'Utah' 'Vermont' 'Virginia'\n",
            " 'Washington' 'West Virginia' 'Wisconsin' 'Wyoming']\n",
            "Total number of labels: 51\n"
          ],
          "name": "stdout"
        }
      ]
    },
    {
      "metadata": {
        "id": "-1cUIiAs3qyJ",
        "colab_type": "code",
        "colab": {
          "base_uri": "https://localhost:8080/",
          "height": 320
        },
        "outputId": "e4bc7e77-fc63-420b-c7e0-63813b03810a"
      },
      "cell_type": "code",
      "source": [
        "x2['total-incidents']=x2['n_injured']+x2['n_killed']\n",
        "x2.head()"
      ],
      "execution_count": 14,
      "outputs": [
        {
          "output_type": "stream",
          "text": [
            "/usr/local/lib/python3.6/dist-packages/ipykernel_launcher.py:1: SettingWithCopyWarning: \n",
            "A value is trying to be set on a copy of a slice from a DataFrame.\n",
            "Try using .loc[row_indexer,col_indexer] = value instead\n",
            "\n",
            "See the caveats in the documentation: http://pandas.pydata.org/pandas-docs/stable/indexing.html#indexing-view-versus-copy\n",
            "  \"\"\"Entry point for launching an IPython kernel.\n"
          ],
          "name": "stderr"
        },
        {
          "output_type": "execute_result",
          "data": {
            "text/html": [
              "<div>\n",
              "<style scoped>\n",
              "    .dataframe tbody tr th:only-of-type {\n",
              "        vertical-align: middle;\n",
              "    }\n",
              "\n",
              "    .dataframe tbody tr th {\n",
              "        vertical-align: top;\n",
              "    }\n",
              "\n",
              "    .dataframe thead th {\n",
              "        text-align: right;\n",
              "    }\n",
              "</style>\n",
              "<table border=\"1\" class=\"dataframe\">\n",
              "  <thead>\n",
              "    <tr style=\"text-align: right;\">\n",
              "      <th></th>\n",
              "      <th>state</th>\n",
              "      <th>n_killed</th>\n",
              "      <th>n_injured</th>\n",
              "      <th>total-incidents</th>\n",
              "    </tr>\n",
              "  </thead>\n",
              "  <tbody>\n",
              "    <tr>\n",
              "      <th>0</th>\n",
              "      <td>Pennsylvania</td>\n",
              "      <td>0</td>\n",
              "      <td>4</td>\n",
              "      <td>4</td>\n",
              "    </tr>\n",
              "    <tr>\n",
              "      <th>1</th>\n",
              "      <td>California</td>\n",
              "      <td>1</td>\n",
              "      <td>3</td>\n",
              "      <td>4</td>\n",
              "    </tr>\n",
              "    <tr>\n",
              "      <th>2</th>\n",
              "      <td>Ohio</td>\n",
              "      <td>1</td>\n",
              "      <td>3</td>\n",
              "      <td>4</td>\n",
              "    </tr>\n",
              "    <tr>\n",
              "      <th>3</th>\n",
              "      <td>Colorado</td>\n",
              "      <td>4</td>\n",
              "      <td>0</td>\n",
              "      <td>4</td>\n",
              "    </tr>\n",
              "    <tr>\n",
              "      <th>4</th>\n",
              "      <td>North Carolina</td>\n",
              "      <td>2</td>\n",
              "      <td>2</td>\n",
              "      <td>4</td>\n",
              "    </tr>\n",
              "  </tbody>\n",
              "</table>\n",
              "</div>"
            ],
            "text/plain": [
              "            state  n_killed  n_injured  total-incidents\n",
              "0    Pennsylvania         0          4                4\n",
              "1      California         1          3                4\n",
              "2            Ohio         1          3                4\n",
              "3        Colorado         4          0                4\n",
              "4  North Carolina         2          2                4"
            ]
          },
          "metadata": {
            "tags": []
          },
          "execution_count": 14
        }
      ]
    },
    {
      "metadata": {
        "id": "AEJvkNG40mZ1",
        "colab_type": "text"
      },
      "cell_type": "markdown",
      "source": [
        "*Intializing a dictionary to save the values of every iteration so they can be easily accessed when we need them, this really helps us in further analysis, making it easier for us to iterarively see how our model was doing and how was it predicting the values*"
      ]
    },
    {
      "metadata": {
        "id": "4HiDPzFsIgOA",
        "colab_type": "code",
        "colab": {
          "base_uri": "https://localhost:8080/",
          "height": 36
        },
        "outputId": "062973c5-05ad-40c9-fa93-c70bdc0a9c9b"
      },
      "cell_type": "code",
      "source": [
        "x2[x2['state']=='Washington']['total-incidents'].values"
      ],
      "execution_count": 278,
      "outputs": [
        {
          "output_type": "execute_result",
          "data": {
            "text/plain": [
              "array([5, 5, 4, ..., 0, 1, 0])"
            ]
          },
          "metadata": {
            "tags": []
          },
          "execution_count": 278
        }
      ]
    },
    {
      "metadata": {
        "id": "x8lpVJzfIgLA",
        "colab_type": "code",
        "colab": {}
      },
      "cell_type": "code",
      "source": [
        ""
      ],
      "execution_count": 0,
      "outputs": []
    },
    {
      "metadata": {
        "id": "zjU6wtc04UXt",
        "colab_type": "code",
        "colab": {
          "base_uri": "https://localhost:8080/",
          "height": 8849
        },
        "outputId": "eb7c0dc6-0448-40a0-fd0e-00dd9b96ec09"
      },
      "cell_type": "code",
      "source": [
        "indiv_traces={}\n",
        "for state in states:\n",
        "    with pm.Model() as model:\n",
        "        alpha = pm.Uniform('alpha', lower=0, upper=100)\n",
        "        mu = pm.Uniform('mu', lower=0, upper=100)\n",
        "        \n",
        "        data = x2[x2['state']==state]['total-incidents'].values\n",
        "        y_est = pm.NegativeBinomial('y_est', mu=mu, alpha=alpha, observed=data)\n",
        "\n",
        "        y_pred = pm.NegativeBinomial('y_pred', mu=mu, alpha=alpha)\n",
        "        \n",
        "        start = pm.find_MAP()\n",
        "        step = pm.Metropolis()\n",
        "        trace = pm.sample(20000, step, start=start, progressbar=True)\n",
        "        \n",
        "        indiv_traces[state] = trace"
      ],
      "execution_count": 15,
      "outputs": [
        {
          "output_type": "stream",
          "text": [
            "logp = -6,378.4, ||grad|| = 0.0086828: 100%|██████████| 25/25 [00:00<00:00, 553.72it/s]  \n",
            "Sequential sampling (2 chains in 1 job)\n",
            "CompoundStep\n",
            ">Metropolis: [y_pred]\n",
            ">Metropolis: [mu]\n",
            ">Metropolis: [alpha]\n",
            "100%|██████████| 20500/20500 [00:47<00:00, 433.78it/s]\n",
            "100%|██████████| 20500/20500 [00:45<00:00, 450.33it/s]\n",
            "/usr/local/lib/python3.6/dist-packages/scipy/signal/signaltools.py:375: FutureWarning: Conversion of the second argument of issubdtype from `complex` to `np.complexfloating` is deprecated. In future, it will be treated as `np.complex128 == np.dtype(complex).type`.\n",
            "  complex_result = (np.issubdtype(in1.dtype, complex) or\n",
            "/usr/local/lib/python3.6/dist-packages/scipy/signal/signaltools.py:376: FutureWarning: Conversion of the second argument of issubdtype from `complex` to `np.complexfloating` is deprecated. In future, it will be treated as `np.complex128 == np.dtype(complex).type`.\n",
            "  np.issubdtype(in2.dtype, complex))\n",
            "The number of effective samples is smaller than 10% for some parameters.\n",
            "logp = -1,277, ||grad|| = 121.43: 100%|██████████| 17/17 [00:00<00:00, 772.51it/s]  \n",
            "Sequential sampling (2 chains in 1 job)\n",
            "CompoundStep\n",
            ">Metropolis: [y_pred]\n",
            ">Metropolis: [mu]\n",
            ">Metropolis: [alpha]\n",
            "100%|██████████| 20500/20500 [00:24<00:00, 849.86it/s]\n",
            "100%|██████████| 20500/20500 [00:23<00:00, 860.41it/s]\n",
            "The number of effective samples is smaller than 10% for some parameters.\n",
            "logp = -2,881.9, ||grad|| = 11.44: 100%|██████████| 28/28 [00:00<00:00, 755.45it/s]  \n",
            "Sequential sampling (2 chains in 1 job)\n",
            "CompoundStep\n",
            ">Metropolis: [y_pred]\n",
            ">Metropolis: [mu]\n",
            ">Metropolis: [alpha]\n",
            "100%|██████████| 20500/20500 [00:29<00:00, 699.18it/s]\n",
            "100%|██████████| 20500/20500 [00:29<00:00, 690.09it/s]\n",
            "The number of effective samples is smaller than 10% for some parameters.\n",
            "logp = -3,254.3, ||grad|| = 81.246: 100%|██████████| 16/16 [00:00<00:00, 487.35it/s]  \n",
            "Sequential sampling (2 chains in 1 job)\n",
            "CompoundStep\n",
            ">Metropolis: [y_pred]\n",
            ">Metropolis: [mu]\n",
            ">Metropolis: [alpha]\n",
            "100%|██████████| 20500/20500 [00:31<00:00, 650.19it/s]\n",
            "100%|██████████| 20500/20500 [00:31<00:00, 641.39it/s]\n",
            "The number of effective samples is smaller than 10% for some parameters.\n",
            "logp = -19,064, ||grad|| = 44.701: 100%|██████████| 17/17 [00:00<00:00, 364.88it/s]  \n",
            "Sequential sampling (2 chains in 1 job)\n",
            "CompoundStep\n",
            ">Metropolis: [y_pred]\n",
            ">Metropolis: [mu]\n",
            ">Metropolis: [alpha]\n",
            "100%|██████████| 20500/20500 [01:38<00:00, 207.84it/s]\n",
            "100%|██████████| 20500/20500 [01:38<00:00, 208.16it/s]\n",
            "The number of effective samples is smaller than 10% for some parameters.\n",
            "logp = -3,359.5, ||grad|| = 156.63: 100%|██████████| 18/18 [00:00<00:00, 646.75it/s]  \n",
            "Sequential sampling (2 chains in 1 job)\n",
            "CompoundStep\n",
            ">Metropolis: [y_pred]\n",
            ">Metropolis: [mu]\n",
            ">Metropolis: [alpha]\n",
            "100%|██████████| 20500/20500 [00:33<00:00, 604.36it/s]\n",
            "100%|██████████| 20500/20500 [00:34<00:00, 597.69it/s]\n",
            "The number of effective samples is smaller than 10% for some parameters.\n",
            "logp = -3,013.8, ||grad|| = 193.08: 100%|██████████| 18/18 [00:00<00:00, 646.33it/s]  \n",
            "Sequential sampling (2 chains in 1 job)\n",
            "CompoundStep\n",
            ">Metropolis: [y_pred]\n",
            ">Metropolis: [mu]\n",
            ">Metropolis: [alpha]\n",
            "100%|██████████| 20500/20500 [00:33<00:00, 608.45it/s]\n",
            "100%|██████████| 20500/20500 [00:34<00:00, 597.37it/s]\n",
            "The number of effective samples is smaller than 25% for some parameters.\n",
            "logp = -1,819.9, ||grad|| = 67.825: 100%|██████████| 17/17 [00:00<00:00, 723.70it/s]  \n",
            "Sequential sampling (2 chains in 1 job)\n",
            "CompoundStep\n",
            ">Metropolis: [y_pred]\n",
            ">Metropolis: [mu]\n",
            ">Metropolis: [alpha]\n",
            "100%|██████████| 20500/20500 [00:26<00:00, 783.92it/s]\n",
            "100%|██████████| 20500/20500 [00:25<00:00, 798.95it/s]\n",
            "The number of effective samples is smaller than 25% for some parameters.\n",
            "logp = -3,354.2, ||grad|| = 235.46: 100%|██████████| 18/18 [00:00<00:00, 668.70it/s]  \n",
            "Sequential sampling (2 chains in 1 job)\n",
            "CompoundStep\n",
            ">Metropolis: [y_pred]\n",
            ">Metropolis: [mu]\n",
            ">Metropolis: [alpha]\n",
            "100%|██████████| 20500/20500 [00:34<00:00, 590.05it/s]\n",
            "100%|██████████| 20500/20500 [00:35<00:00, 584.90it/s]\n",
            "The number of effective samples is smaller than 10% for some parameters.\n",
            "logp = -17,032, ||grad|| = 493.08: 100%|██████████| 17/17 [00:00<00:00, 321.77it/s]  \n",
            "Sequential sampling (2 chains in 1 job)\n",
            "CompoundStep\n",
            ">Metropolis: [y_pred]\n",
            ">Metropolis: [mu]\n",
            ">Metropolis: [alpha]\n",
            "100%|██████████| 20500/20500 [01:39<00:00, 205.10it/s]\n",
            "100%|██████████| 20500/20500 [01:40<00:00, 204.53it/s]\n",
            "The number of effective samples is smaller than 10% for some parameters.\n",
            "logp = -9,924.6, ||grad|| = 39.428: 100%|██████████| 17/17 [00:00<00:00, 411.92it/s]  \n",
            "Sequential sampling (2 chains in 1 job)\n",
            "CompoundStep\n",
            ">Metropolis: [y_pred]\n",
            ">Metropolis: [mu]\n",
            ">Metropolis: [alpha]\n",
            "100%|██████████| 20500/20500 [01:03<00:00, 321.91it/s]\n",
            "100%|██████████| 20500/20500 [01:02<00:00, 327.60it/s]\n",
            "The number of effective samples is smaller than 25% for some parameters.\n",
            "logp = -337.02, ||grad|| = 12.841: 100%|██████████| 17/17 [00:00<00:00, 877.02it/s]  \n",
            "Sequential sampling (2 chains in 1 job)\n",
            "CompoundStep\n",
            ">Metropolis: [y_pred]\n",
            ">Metropolis: [mu]\n",
            ">Metropolis: [alpha]\n",
            "100%|██████████| 20500/20500 [00:17<00:00, 1146.28it/s]\n",
            "100%|██████████| 20500/20500 [00:17<00:00, 1146.65it/s]\n",
            "The number of effective samples is smaller than 10% for some parameters.\n",
            "logp = -713.37, ||grad|| = 96.275: 100%|██████████| 20/20 [00:00<00:00, 916.08it/s]  \n",
            "Sequential sampling (2 chains in 1 job)\n",
            "CompoundStep\n",
            ">Metropolis: [y_pred]\n",
            ">Metropolis: [mu]\n",
            ">Metropolis: [alpha]\n",
            "100%|██████████| 20500/20500 [00:19<00:00, 1040.31it/s]\n",
            "100%|██████████| 20500/20500 [00:20<00:00, 1019.20it/s]\n",
            "The number of effective samples is smaller than 10% for some parameters.\n",
            "logp = -20,584, ||grad|| = 0.00046526: 100%|██████████| 44/44 [00:00<00:00, 319.96it/s]  \n",
            "Sequential sampling (2 chains in 1 job)\n",
            "CompoundStep\n",
            ">Metropolis: [y_pred]\n",
            ">Metropolis: [mu]\n",
            ">Metropolis: [alpha]\n",
            "100%|██████████| 20500/20500 [01:43<00:00, 197.72it/s]\n",
            "100%|██████████| 20500/20500 [01:43<00:00, 197.27it/s]\n",
            "The number of effective samples is smaller than 10% for some parameters.\n",
            "logp = -6,601.5, ||grad|| = 69.826: 100%|██████████| 19/19 [00:00<00:00, 525.23it/s]  \n",
            "Sequential sampling (2 chains in 1 job)\n",
            "CompoundStep\n",
            ">Metropolis: [y_pred]\n",
            ">Metropolis: [mu]\n",
            ">Metropolis: [alpha]\n",
            "100%|██████████| 20500/20500 [00:47<00:00, 429.07it/s]\n",
            "100%|██████████| 20500/20500 [00:47<00:00, 428.42it/s]\n",
            "The number of effective samples is smaller than 25% for some parameters.\n",
            "logp = -2,273.6, ||grad|| = 175.91: 100%|██████████| 19/19 [00:00<00:00, 720.73it/s]  \n",
            "Sequential sampling (2 chains in 1 job)\n",
            "CompoundStep\n",
            ">Metropolis: [y_pred]\n",
            ">Metropolis: [mu]\n",
            ">Metropolis: [alpha]\n",
            "100%|██████████| 20500/20500 [00:30<00:00, 661.87it/s]\n",
            "100%|██████████| 20500/20500 [00:29<00:00, 684.57it/s]\n",
            "The number of effective samples is smaller than 10% for some parameters.\n",
            "logp = -2,416.2, ||grad|| = 107.83: 100%|██████████| 18/18 [00:00<00:00, 718.98it/s]  \n",
            "Sequential sampling (2 chains in 1 job)\n",
            "CompoundStep\n",
            ">Metropolis: [y_pred]\n",
            ">Metropolis: [mu]\n",
            ">Metropolis: [alpha]\n",
            "100%|██████████| 20500/20500 [00:28<00:00, 730.34it/s]\n",
            "100%|██████████| 20500/20500 [00:28<00:00, 726.35it/s]\n",
            "The number of effective samples is smaller than 25% for some parameters.\n",
            "logp = -4,585, ||grad|| = 30.989: 100%|██████████| 17/17 [00:00<00:00, 640.37it/s]  \n",
            "Sequential sampling (2 chains in 1 job)\n",
            "CompoundStep\n",
            ">Metropolis: [y_pred]\n",
            ">Metropolis: [mu]\n",
            ">Metropolis: [alpha]\n",
            "100%|██████████| 20500/20500 [00:38<00:00, 537.13it/s]\n",
            "100%|██████████| 20500/20500 [00:39<00:00, 520.77it/s]\n",
            "The number of effective samples is smaller than 10% for some parameters.\n",
            "logp = -9,295.2, ||grad|| = 99.87: 100%|██████████| 19/19 [00:00<00:00, 533.33it/s]  \n",
            "Sequential sampling (2 chains in 1 job)\n",
            "CompoundStep\n",
            ">Metropolis: [y_pred]\n",
            ">Metropolis: [mu]\n",
            ">Metropolis: [alpha]\n",
            "100%|██████████| 20500/20500 [00:59<00:00, 343.85it/s]\n",
            "100%|██████████| 20500/20500 [00:58<00:00, 350.25it/s]\n",
            "The number of effective samples is smaller than 10% for some parameters.\n",
            "logp = -655.98, ||grad|| = 3.0431e-07: 100%|██████████| 22/22 [00:00<00:00, 624.79it/s]  \n",
            "Sequential sampling (2 chains in 1 job)\n",
            "CompoundStep\n",
            ">Metropolis: [y_pred]\n",
            ">Metropolis: [mu]\n",
            ">Metropolis: [alpha]\n",
            "100%|██████████| 20500/20500 [00:20<00:00, 999.57it/s]\n",
            "100%|██████████| 20500/20500 [00:20<00:00, 991.89it/s]\n",
            "The number of effective samples is smaller than 10% for some parameters.\n",
            "logp = -6,578.4, ||grad|| = 0.016438: 100%|██████████| 29/29 [00:00<00:00, 597.09it/s]  \n",
            "Sequential sampling (2 chains in 1 job)\n",
            "CompoundStep\n",
            ">Metropolis: [y_pred]\n",
            ">Metropolis: [mu]\n",
            ">Metropolis: [alpha]\n",
            "100%|██████████| 20500/20500 [00:48<00:00, 426.51it/s]\n",
            "100%|██████████| 20500/20500 [00:47<00:00, 433.25it/s]\n",
            "The number of effective samples is smaller than 25% for some parameters.\n",
            "logp = -4,814.4, ||grad|| = 205.31: 100%|██████████| 21/21 [00:00<00:00, 558.90it/s]  \n",
            "Sequential sampling (2 chains in 1 job)\n",
            "CompoundStep\n",
            ">Metropolis: [y_pred]\n",
            ">Metropolis: [mu]\n",
            ">Metropolis: [alpha]\n",
            "100%|██████████| 20500/20500 [00:51<00:00, 401.43it/s]\n",
            "100%|██████████| 20500/20500 [00:50<00:00, 407.40it/s]\n",
            "The number of effective samples is smaller than 10% for some parameters.\n",
            "logp = -6,970.2, ||grad|| = 61.764: 100%|██████████| 16/16 [00:00<00:00, 554.60it/s]  \n",
            "Sequential sampling (2 chains in 1 job)\n",
            "CompoundStep\n",
            ">Metropolis: [y_pred]\n",
            ">Metropolis: [mu]\n",
            ">Metropolis: [alpha]\n",
            "100%|██████████| 20500/20500 [00:49<00:00, 417.51it/s]\n",
            "100%|██████████| 20500/20500 [00:49<00:00, 414.72it/s]\n",
            "The number of effective samples is smaller than 10% for some parameters.\n",
            "logp = -2,541.7, ||grad|| = 205.22: 100%|██████████| 19/19 [00:00<00:00, 782.94it/s]  \n",
            "Sequential sampling (2 chains in 1 job)\n",
            "CompoundStep\n",
            ">Metropolis: [y_pred]\n",
            ">Metropolis: [mu]\n",
            ">Metropolis: [alpha]\n",
            "100%|██████████| 20500/20500 [00:31<00:00, 652.18it/s]\n",
            "100%|██████████| 20500/20500 [00:31<00:00, 659.40it/s]\n",
            "The number of effective samples is smaller than 10% for some parameters.\n",
            "logp = -4,210.6, ||grad|| = 8.0804: 100%|██████████| 16/16 [00:00<00:00, 616.67it/s]  \n",
            "Sequential sampling (2 chains in 1 job)\n",
            "CompoundStep\n",
            ">Metropolis: [y_pred]\n",
            ">Metropolis: [mu]\n",
            ">Metropolis: [alpha]\n",
            "100%|██████████| 20500/20500 [00:36<00:00, 558.26it/s]\n",
            "100%|██████████| 20500/20500 [00:35<00:00, 574.06it/s]\n",
            "The number of effective samples is smaller than 10% for some parameters.\n",
            "logp = -7,801.1, ||grad|| = 23.523: 100%|██████████| 19/19 [00:00<00:00, 560.36it/s]  \n",
            "Sequential sampling (2 chains in 1 job)\n",
            "CompoundStep\n",
            ">Metropolis: [y_pred]\n",
            ">Metropolis: [mu]\n",
            ">Metropolis: [alpha]\n",
            "100%|██████████| 20500/20500 [00:51<00:00, 397.84it/s]\n",
            "100%|██████████| 20500/20500 [00:50<00:00, 402.69it/s]\n",
            "The number of effective samples is smaller than 10% for some parameters.\n",
            "logp = -720.27, ||grad|| = 99.643: 100%|██████████| 19/19 [00:00<00:00, 873.18it/s]  \n",
            "Sequential sampling (2 chains in 1 job)\n",
            "CompoundStep\n",
            ">Metropolis: [y_pred]\n",
            ">Metropolis: [mu]\n",
            ">Metropolis: [alpha]\n",
            "100%|██████████| 20500/20500 [00:19<00:00, 1026.43it/s]\n",
            "100%|██████████| 20500/20500 [00:19<00:00, 1027.41it/s]\n",
            "The number of effective samples is smaller than 25% for some parameters.\n",
            "logp = -1,693.5, ||grad|| = 112.24: 100%|██████████| 18/18 [00:00<00:00, 722.51it/s]  \n",
            "Sequential sampling (2 chains in 1 job)\n",
            "CompoundStep\n",
            ">Metropolis: [y_pred]\n",
            ">Metropolis: [mu]\n",
            ">Metropolis: [alpha]\n",
            "100%|██████████| 20500/20500 [00:26<00:00, 781.46it/s]\n",
            "100%|██████████| 20500/20500 [00:26<00:00, 764.49it/s]\n",
            "The number of effective samples is smaller than 10% for some parameters.\n",
            "logp = -2,370.6, ||grad|| = 1.5856: 100%|██████████| 15/15 [00:00<00:00, 680.73it/s]  \n",
            "Sequential sampling (2 chains in 1 job)\n",
            "CompoundStep\n",
            ">Metropolis: [y_pred]\n",
            ">Metropolis: [mu]\n",
            ">Metropolis: [alpha]\n",
            "100%|██████████| 20500/20500 [00:28<00:00, 731.82it/s]\n",
            "100%|██████████| 20500/20500 [00:28<00:00, 720.56it/s]\n",
            "The number of effective samples is smaller than 10% for some parameters.\n",
            "logp = -717.13, ||grad|| = 108.34: 100%|██████████| 20/20 [00:00<00:00, 838.16it/s]  \n",
            "Sequential sampling (2 chains in 1 job)\n",
            "CompoundStep\n",
            ">Metropolis: [y_pred]\n",
            ">Metropolis: [mu]\n",
            ">Metropolis: [alpha]\n",
            "100%|██████████| 20500/20500 [00:22<00:00, 914.53it/s]\n",
            "100%|██████████| 20500/20500 [00:22<00:00, 907.88it/s]\n",
            "The number of effective samples is smaller than 10% for some parameters.\n",
            "logp = -5,903.6, ||grad|| = 61.038: 100%|██████████| 17/17 [00:00<00:00, 597.18it/s]  \n",
            "Sequential sampling (2 chains in 1 job)\n",
            "CompoundStep\n",
            ">Metropolis: [y_pred]\n",
            ">Metropolis: [mu]\n",
            ">Metropolis: [alpha]\n",
            "100%|██████████| 20500/20500 [00:45<00:00, 447.56it/s]\n",
            "100%|██████████| 20500/20500 [00:45<00:00, 448.16it/s]\n",
            "The number of effective samples is smaller than 10% for some parameters.\n",
            "logp = -1,807.4, ||grad|| = 97.982: 100%|██████████| 17/17 [00:00<00:00, 567.68it/s]  \n",
            "Sequential sampling (2 chains in 1 job)\n",
            "CompoundStep\n",
            ">Metropolis: [y_pred]\n",
            ">Metropolis: [mu]\n",
            ">Metropolis: [alpha]\n",
            "100%|██████████| 20500/20500 [00:26<00:00, 768.08it/s]\n",
            "100%|██████████| 20500/20500 [00:26<00:00, 778.31it/s]\n",
            "The number of effective samples is smaller than 10% for some parameters.\n",
            "logp = -10,536, ||grad|| = 54.992: 100%|██████████| 18/18 [00:00<00:00, 482.97it/s]  \n",
            "Sequential sampling (2 chains in 1 job)\n",
            "CompoundStep\n",
            ">Metropolis: [y_pred]\n",
            ">Metropolis: [mu]\n",
            ">Metropolis: [alpha]\n",
            "100%|██████████| 20500/20500 [01:05<00:00, 313.31it/s]\n",
            "100%|██████████| 20500/20500 [01:05<00:00, 314.03it/s]\n",
            "The number of effective samples is smaller than 25% for some parameters.\n",
            "logp = -9,798.3, ||grad|| = 1.9074: 100%|██████████| 27/27 [00:00<00:00, 478.97it/s]  \n",
            "Sequential sampling (2 chains in 1 job)\n",
            "CompoundStep\n",
            ">Metropolis: [y_pred]\n",
            ">Metropolis: [mu]\n",
            ">Metropolis: [alpha]\n",
            "100%|██████████| 20500/20500 [01:01<00:00, 333.07it/s]\n",
            "100%|██████████| 20500/20500 [01:02<00:00, 328.25it/s]\n",
            "The number of effective samples is smaller than 25% for some parameters.\n",
            "logp = -518.81, ||grad|| = 43.353: 100%|██████████| 17/17 [00:00<00:00, 829.80it/s]  \n",
            "Sequential sampling (2 chains in 1 job)\n",
            "CompoundStep\n",
            ">Metropolis: [y_pred]\n",
            ">Metropolis: [mu]\n",
            ">Metropolis: [alpha]\n",
            "100%|██████████| 20500/20500 [00:20<00:00, 1020.03it/s]\n",
            "100%|██████████| 20500/20500 [00:20<00:00, 1017.02it/s]\n",
            "The number of effective samples is smaller than 10% for some parameters.\n",
            "logp = -11,520, ||grad|| = 720.2: 100%|██████████| 33/33 [00:00<00:00, 485.49it/s]  \n",
            "Sequential sampling (2 chains in 1 job)\n",
            "CompoundStep\n",
            ">Metropolis: [y_pred]\n",
            ">Metropolis: [mu]\n",
            ">Metropolis: [alpha]\n",
            "100%|██████████| 20500/20500 [01:09<00:00, 296.97it/s]\n",
            "100%|██████████| 20500/20500 [01:08<00:00, 297.13it/s]\n",
            "The number of effective samples is smaller than 10% for some parameters.\n",
            "logp = -3,826.9, ||grad|| = 19.018: 100%|██████████| 17/17 [00:00<00:00, 654.26it/s]  \n",
            "Sequential sampling (2 chains in 1 job)\n",
            "CompoundStep\n",
            ">Metropolis: [y_pred]\n",
            ">Metropolis: [mu]\n",
            ">Metropolis: [alpha]\n",
            "100%|██████████| 20500/20500 [00:35<00:00, 572.53it/s]\n",
            "100%|██████████| 20500/20500 [00:35<00:00, 570.50it/s]\n",
            "The number of effective samples is smaller than 10% for some parameters.\n",
            "logp = -2,253.1, ||grad|| = 208.65: 100%|██████████| 18/18 [00:00<00:00, 720.13it/s]  \n",
            "Sequential sampling (2 chains in 1 job)\n",
            "CompoundStep\n",
            ">Metropolis: [y_pred]\n",
            ">Metropolis: [mu]\n",
            ">Metropolis: [alpha]\n",
            "100%|██████████| 20500/20500 [00:30<00:00, 679.28it/s]\n",
            "100%|██████████| 20500/20500 [00:31<00:00, 658.13it/s]\n",
            "The number of effective samples is smaller than 10% for some parameters.\n",
            "logp = -10,221, ||grad|| = 0.00021537: 100%|██████████| 65/65 [00:00<00:00, 496.61it/s]  \n",
            "Sequential sampling (2 chains in 1 job)\n",
            "CompoundStep\n",
            ">Metropolis: [y_pred]\n",
            ">Metropolis: [mu]\n",
            ">Metropolis: [alpha]\n",
            "100%|██████████| 20500/20500 [01:02<00:00, 325.76it/s]\n",
            "100%|██████████| 20500/20500 [01:01<00:00, 334.60it/s]\n",
            "The number of effective samples is smaller than 25% for some parameters.\n",
            "logp = -909.27, ||grad|| = 132.8: 100%|██████████| 18/18 [00:00<00:00, 734.79it/s]  \n",
            "Sequential sampling (2 chains in 1 job)\n",
            "CompoundStep\n",
            ">Metropolis: [y_pred]\n",
            ">Metropolis: [mu]\n",
            ">Metropolis: [alpha]\n",
            "100%|██████████| 20500/20500 [00:21<00:00, 974.67it/s]\n",
            "100%|██████████| 20500/20500 [00:21<00:00, 962.18it/s]\n",
            "The number of effective samples is smaller than 10% for some parameters.\n",
            "logp = -7,423.1, ||grad|| = 26.096: 100%|██████████| 18/18 [00:00<00:00, 489.57it/s]  \n",
            "Sequential sampling (2 chains in 1 job)\n",
            "CompoundStep\n",
            ">Metropolis: [y_pred]\n",
            ">Metropolis: [mu]\n",
            ">Metropolis: [alpha]\n",
            "100%|██████████| 20500/20500 [00:52<00:00, 391.77it/s]\n",
            "100%|██████████| 20500/20500 [00:50<00:00, 403.47it/s]\n",
            "The number of effective samples is smaller than 10% for some parameters.\n",
            "logp = -534.55, ||grad|| = 83.149: 100%|██████████| 18/18 [00:00<00:00, 837.73it/s]  \n",
            "Sequential sampling (2 chains in 1 job)\n",
            "CompoundStep\n",
            ">Metropolis: [y_pred]\n",
            ">Metropolis: [mu]\n",
            ">Metropolis: [alpha]\n",
            "100%|██████████| 20500/20500 [00:19<00:00, 1075.73it/s]\n",
            "100%|██████████| 20500/20500 [00:19<00:00, 1078.88it/s]\n",
            "The number of effective samples is smaller than 10% for some parameters.\n",
            "logp = -8,710.1, ||grad|| = 0.01303: 100%|██████████| 25/25 [00:00<00:00, 569.20it/s]  \n",
            "Sequential sampling (2 chains in 1 job)\n",
            "CompoundStep\n",
            ">Metropolis: [y_pred]\n",
            ">Metropolis: [mu]\n",
            ">Metropolis: [alpha]\n",
            "100%|██████████| 20500/20500 [00:54<00:00, 378.10it/s]\n",
            "100%|██████████| 20500/20500 [00:55<00:00, 372.44it/s]\n",
            "The number of effective samples is smaller than 10% for some parameters.\n",
            "logp = -15,802, ||grad|| = 69.005: 100%|██████████| 17/17 [00:00<00:00, 388.03it/s]  \n",
            "Sequential sampling (2 chains in 1 job)\n",
            "CompoundStep\n",
            ">Metropolis: [y_pred]\n",
            ">Metropolis: [mu]\n",
            ">Metropolis: [alpha]\n",
            "100%|██████████| 20500/20500 [01:23<00:00, 246.95it/s]\n",
            "100%|██████████| 20500/20500 [01:22<00:00, 247.72it/s]\n",
            "The number of effective samples is smaller than 25% for some parameters.\n",
            "logp = -1,212.9, ||grad|| = 56.66: 100%|██████████| 17/17 [00:00<00:00, 785.21it/s]  \n",
            "Sequential sampling (2 chains in 1 job)\n",
            "CompoundStep\n",
            ">Metropolis: [y_pred]\n",
            ">Metropolis: [mu]\n",
            ">Metropolis: [alpha]\n",
            "100%|██████████| 20500/20500 [00:22<00:00, 897.57it/s]\n",
            "100%|██████████| 20500/20500 [00:23<00:00, 889.31it/s]\n",
            "The number of effective samples is smaller than 10% for some parameters.\n",
            "logp = -410.45, ||grad|| = 65.346: 100%|██████████| 19/19 [00:00<00:00, 843.66it/s]  \n",
            "Sequential sampling (2 chains in 1 job)\n",
            "CompoundStep\n",
            ">Metropolis: [y_pred]\n",
            ">Metropolis: [mu]\n",
            ">Metropolis: [alpha]\n",
            "100%|██████████| 20500/20500 [00:18<00:00, 1083.70it/s]\n",
            "100%|██████████| 20500/20500 [00:18<00:00, 1095.44it/s]\n",
            "The number of effective samples is smaller than 25% for some parameters.\n",
            "logp = -6,861.7, ||grad|| = 26.402: 100%|██████████| 21/21 [00:00<00:00, 614.64it/s]  \n",
            "Sequential sampling (2 chains in 1 job)\n",
            "CompoundStep\n",
            ">Metropolis: [y_pred]\n",
            ">Metropolis: [mu]\n",
            ">Metropolis: [alpha]\n",
            "100%|██████████| 20500/20500 [00:46<00:00, 442.51it/s]\n",
            "100%|██████████| 20500/20500 [00:46<00:00, 440.95it/s]\n",
            "The number of effective samples is smaller than 25% for some parameters.\n",
            "logp = -3,646.4, ||grad|| = 136.18: 100%|██████████| 18/18 [00:00<00:00, 672.66it/s]  \n",
            "Sequential sampling (2 chains in 1 job)\n",
            "CompoundStep\n",
            ">Metropolis: [y_pred]\n",
            ">Metropolis: [mu]\n",
            ">Metropolis: [alpha]\n",
            "100%|██████████| 20500/20500 [00:34<00:00, 590.97it/s]\n",
            "100%|██████████| 20500/20500 [00:34<00:00, 590.86it/s]\n",
            "The number of effective samples is smaller than 10% for some parameters.\n",
            "logp = -1,709.7, ||grad|| = 79.762: 100%|██████████| 18/18 [00:00<00:00, 764.25it/s]  \n",
            "Sequential sampling (2 chains in 1 job)\n",
            "CompoundStep\n",
            ">Metropolis: [y_pred]\n",
            ">Metropolis: [mu]\n",
            ">Metropolis: [alpha]\n",
            "100%|██████████| 20500/20500 [00:25<00:00, 803.98it/s]\n",
            "100%|██████████| 20500/20500 [00:25<00:00, 807.19it/s]\n",
            "The number of effective samples is smaller than 10% for some parameters.\n",
            "logp = -4,939.9, ||grad|| = 12.409: 100%|██████████| 16/16 [00:00<00:00, 605.50it/s]  \n",
            "Sequential sampling (2 chains in 1 job)\n",
            "CompoundStep\n",
            ">Metropolis: [y_pred]\n",
            ">Metropolis: [mu]\n",
            ">Metropolis: [alpha]\n",
            "100%|██████████| 20500/20500 [00:40<00:00, 501.42it/s]\n",
            "100%|██████████| 20500/20500 [00:41<00:00, 494.94it/s]\n",
            "The number of effective samples is smaller than 10% for some parameters.\n",
            "logp = -515.43, ||grad|| = 71.698: 100%|██████████| 19/19 [00:00<00:00, 842.22it/s]  \n",
            "Sequential sampling (2 chains in 1 job)\n",
            "CompoundStep\n",
            ">Metropolis: [y_pred]\n",
            ">Metropolis: [mu]\n",
            ">Metropolis: [alpha]\n",
            "100%|██████████| 20500/20500 [00:19<00:00, 1066.60it/s]\n",
            "100%|██████████| 20500/20500 [00:18<00:00, 1092.05it/s]\n",
            "The number of effective samples is smaller than 10% for some parameters.\n"
          ],
          "name": "stderr"
        }
      ]
    },
    {
      "metadata": {
        "id": "GE4dgsGsK5yq",
        "colab_type": "code",
        "colab": {
          "base_uri": "https://localhost:8080/",
          "height": 36
        },
        "outputId": "b87d7f94-9d3c-4fd5-af52-8f4bfab8522e"
      },
      "cell_type": "code",
      "source": [
        "states[15]"
      ],
      "execution_count": 283,
      "outputs": [
        {
          "output_type": "execute_result",
          "data": {
            "text/plain": [
              "'Iowa'"
            ]
          },
          "metadata": {
            "tags": []
          },
          "execution_count": 283
        }
      ]
    },
    {
      "metadata": {
        "id": "CPAnUV68K83Z",
        "colab_type": "code",
        "colab": {
          "base_uri": "https://localhost:8080/",
          "height": 36
        },
        "outputId": "ece5c29c-b0fa-4805-cd68-319bba86ce8d"
      },
      "cell_type": "code",
      "source": [
        "len(x2['total-incidents'][x2['state']=='Iowa'])"
      ],
      "execution_count": 289,
      "outputs": [
        {
          "output_type": "execute_result",
          "data": {
            "text/plain": [
              "2517"
            ]
          },
          "metadata": {
            "tags": []
          },
          "execution_count": 289
        }
      ]
    },
    {
      "metadata": {
        "id": "hqdqi7_pO1pI",
        "colab_type": "code",
        "colab": {
          "base_uri": "https://localhost:8080/",
          "height": 36
        },
        "outputId": "3b3f88c1-6f74-4f7c-9cad-7e84b5dcebc9"
      },
      "cell_type": "code",
      "source": [
        "len(df3[(df3['Alabama']>df3['Alaska'])==True])/len(df3)"
      ],
      "execution_count": 308,
      "outputs": [
        {
          "output_type": "execute_result",
          "data": {
            "text/plain": [
              "0.442425"
            ]
          },
          "metadata": {
            "tags": []
          },
          "execution_count": 308
        }
      ]
    },
    {
      "metadata": {
        "id": "3RgdevTtNVmt",
        "colab_type": "code",
        "colab": {
          "base_uri": "https://localhost:8080/",
          "height": 574
        },
        "outputId": "bc0e3d0e-905e-4e1e-ea9c-85e9168c2ed8"
      },
      "cell_type": "code",
      "source": [
        "pm.traceplot(trace)"
      ],
      "execution_count": 16,
      "outputs": [
        {
          "output_type": "execute_result",
          "data": {
            "text/plain": [
              "array([[<matplotlib.axes._subplots.AxesSubplot object at 0x7f6abd8cbba8>,\n",
              "        <matplotlib.axes._subplots.AxesSubplot object at 0x7f6ac287c710>],\n",
              "       [<matplotlib.axes._subplots.AxesSubplot object at 0x7f6ac6be6f98>,\n",
              "        <matplotlib.axes._subplots.AxesSubplot object at 0x7f6ac3edfbe0>],\n",
              "       [<matplotlib.axes._subplots.AxesSubplot object at 0x7f6abf84fc18>,\n",
              "        <matplotlib.axes._subplots.AxesSubplot object at 0x7f6ac5b776a0>]],\n",
              "      dtype=object)"
            ]
          },
          "metadata": {
            "tags": []
          },
          "execution_count": 16
        },
        {
          "output_type": "display_data",
          "data": {
            "image/png": "[encoded data removed]",
            "text/plain": [
              "<matplotlib.figure.Figure at 0x7f6abdd97fd0>"
            ]
          },
          "metadata": {
            "tags": []
          }
        }
      ]
    },
    {
      "metadata": {
        "id": "8-G_YWmmFFRW",
        "colab_type": "code",
        "colab": {
          "base_uri": "https://localhost:8080/",
          "height": 445
        },
        "outputId": "c149e510-57ed-4d98-ee16-2f279887ab45"
      },
      "cell_type": "code",
      "source": [
        "pm.plots.plot_posterior(trace)"
      ],
      "execution_count": 17,
      "outputs": [
        {
          "output_type": "execute_result",
          "data": {
            "text/plain": [
              "array([<matplotlib.axes._subplots.AxesSubplot object at 0x7f6ac61dfdd8>,\n",
              "       <matplotlib.axes._subplots.AxesSubplot object at 0x7f6abebd6d30>,\n",
              "       <matplotlib.axes._subplots.AxesSubplot object at 0x7f6ac2a9ada0>],\n",
              "      dtype=object)"
            ]
          },
          "metadata": {
            "tags": []
          },
          "execution_count": 17
        },
        {
          "output_type": "display_data",
          "data": {
            "image/png": "[encoded data removed]",
            "text/plain": [
              "<matplotlib.figure.Figure at 0x7f6ac055c240>"
            ]
          },
          "metadata": {
            "tags": []
          }
        }
      ]
    },
    {
      "metadata": {
        "id": "9Ebd-THuOBlb",
        "colab_type": "text"
      },
      "cell_type": "markdown",
      "source": [
        "**Now that we have our model, we need to check if it can capture the variance of the dataset and if we can use this model in the future as a forecasting model or rather as a WARNING MODEL, Gun-Violence is something that we should not be forecasting but because of the grave situation we are in right now, this is our best way to educate the people and the government and be vary of what will happen, if the situation does not change soon.**"
      ]
    },
    {
      "metadata": {
        "id": "_nsGF8CJ1Hoe",
        "colab_type": "text"
      },
      "cell_type": "markdown",
      "source": [
        "*Once we have our model we use our dictionary to access the predicted values of each states and the next step will be plotting observed and predicted values and see if our model captures the original data well or if there is a need to change the paramters*"
      ]
    },
    {
      "metadata": {
        "id": "6pnacUDkDWnL",
        "colab_type": "code",
        "colab": {}
      },
      "cell_type": "code",
      "source": [
        "pred = pd.DataFrame( columns=states)\n",
        "pred\n",
        "for i in range(len(states)):\n",
        "  pred[states[i]]=indiv_traces[states[i]].get_values('y_pred')"
      ],
      "execution_count": 0,
      "outputs": []
    },
    {
      "metadata": {
        "id": "XCUMI8poWPZT",
        "colab_type": "code",
        "colab": {}
      },
      "cell_type": "code",
      "source": [
        "def calculate_state_incidents(state):\n",
        "  for i in range(len(states)):\n",
        "    if states[i]==state:\n",
        "      return (indiv_traces[states[i]].get_values('y_pred'))"
      ],
      "execution_count": 0,
      "outputs": []
    },
    {
      "metadata": {
        "id": "FkJXqzXHAwPO",
        "colab_type": "text"
      },
      "cell_type": "markdown",
      "source": [
        "*Looking at the distribution plots for some states and check if our model and the actual values follow the same pattern*"
      ]
    },
    {
      "metadata": {
        "id": "oNJlIksj8s8L",
        "colab_type": "code",
        "colab": {
          "base_uri": "https://localhost:8080/",
          "height": 638
        },
        "outputId": "d09f3bb6-c49a-4b06-c473-944982c24be7"
      },
      "cell_type": "code",
      "source": [
        "f,axes = plt.subplots(2, 2,figsize=(10, 10))\n",
        "sb.set_style(\"darkgrid\")\n",
        "sb.set(rc={'figure.figsize':(8,5)})\n",
        "sb.distplot(calculate_state_incidents('Florida'),label='Observed Florida',kde=True,ax=axes[0][0])\n",
        "sb.distplot(x2['total-incidents'][x2['state']=='Florida'],kde=True,label='Actual-Florida',ax=axes[0][0])\n",
        "axes[0][0].set_title(\"Comparison between actual and predicted Florida values\",fontsize=10)\n",
        "sb.distplot(calculate_state_incidents('Hawaii'),label='Observed Hawaii',kde=True,ax=axes[0][1])\n",
        "sb.distplot(x2['total-incidents'][x2['state']=='Hawaii'],kde=True,label='Actual-Hawaii',ax=axes[0][1])\n",
        "axes[0][1].set_title(\"Comparison between actual and predicted Hawaii values\",fontsize=10)\n",
        "sb.distplot(calculate_state_incidents('Illinois'),label='Observed Illinois',kde=True,ax=axes[1][0])\n",
        "sb.distplot(x2['total-incidents'][x2['state']=='Illinois'],kde=True,label='Actual-Illinois',ax=axes[1][0])\n",
        "axes[1][0].set_title(\"Comparison between actual and predicted Illinois values\",fontsize=10)\n",
        "sb.distplot(calculate_state_incidents('Alabama'),label='Observed Alabama',kde=True,ax=axes[1][1])\n",
        "sb.distplot(x2['total-incidents'][x2['state']=='Alabama'],kde=True,label='Actual-Alabama',ax=axes[1][1])\n",
        "axes[1][1].set_title(\"Comparison between actual and predicted Alabama values\",fontsize=10)\n",
        "axes[0][0].legend()\n",
        "axes[0][1].legend()\n",
        "axes[1][0].legend()\n",
        "axes[1][1].legend()"
      ],
      "execution_count": 251,
      "outputs": [
        {
          "output_type": "execute_result",
          "data": {
            "text/plain": [
              "<matplotlib.legend.Legend at 0x7f6ab59a99e8>"
            ]
          },
          "metadata": {
            "tags": []
          },
          "execution_count": 251
        },
        {
          "output_type": "display_data",
          "data": {
            "image/png": "[encoded data removed]",
            "text/plain": [
              "<matplotlib.figure.Figure at 0x7f6ab6fa04e0>"
            ]
          },
          "metadata": {
            "tags": []
          }
        }
      ]
    },
    {
      "metadata": {
        "id": "E0L2PzQind03",
        "colab_type": "code",
        "colab": {}
      },
      "cell_type": "code",
      "source": [
        "total_incidents=0\n",
        "for i in range(len(states)):\n",
        "    total_incidents+=np.sum(calculate_state_incidents(states[i]))"
      ],
      "execution_count": 0,
      "outputs": []
    },
    {
      "metadata": {
        "id": "UzLA_XZaQ1bq",
        "colab_type": "code",
        "colab": {
          "base_uri": "https://localhost:8080/",
          "height": 36
        },
        "outputId": "e56215e8-0323-4502-8b5b-b760b73f243a"
      },
      "cell_type": "code",
      "source": [
        "len(pred[pred['Alaska']>pred['Alabama']])"
      ],
      "execution_count": 319,
      "outputs": [
        {
          "output_type": "execute_result",
          "data": {
            "text/plain": [
              "7059"
            ]
          },
          "metadata": {
            "tags": []
          },
          "execution_count": 319
        }
      ]
    },
    {
      "metadata": {
        "id": "-bYR5Vfkfhj0",
        "colab_type": "code",
        "colab": {}
      },
      "cell_type": "code",
      "source": [
        "#Comparing two states to each other and finding out which state had more injuries per incident\n",
        "def state_comparison(x,y):\n",
        "  return len(pred[pred[x]>pred[y]])/len(pred)"
      ],
      "execution_count": 0,
      "outputs": []
    },
    {
      "metadata": {
        "id": "B99gf5nShxgM",
        "colab_type": "code",
        "colab": {
          "base_uri": "https://localhost:8080/",
          "height": 55
        },
        "outputId": "bc2feec5-da68-4515-8e20-be2d0eb583d6"
      },
      "cell_type": "code",
      "source": [
        "print(\"Comparison between Alaska and Hawaii\",state_comparison('Vermont','Wyoming')) #Comparing Wyoming and Vermont\n",
        "print(\"Comparison between Hawaii and Texas\",state_comparison('Hawaii','Texas'))#Comparing Hawaii and Texas"
      ],
      "execution_count": 322,
      "outputs": [
        {
          "output_type": "stream",
          "text": [
            "Comparison between Alaska and Hawaii 0.187525\n",
            "Comparison between Hawaii and Texas 0.2166\n"
          ],
          "name": "stdout"
        }
      ]
    },
    {
      "metadata": {
        "id": "reg_akpy6yI0",
        "colab_type": "text"
      },
      "cell_type": "markdown",
      "source": [
        "*A low value signfies that two states have less incidents - looking at  Wyoming and Vermont we get a value close to 2 and if you look at Texas and Hawaii we get a high value because Texas has a really high number of gun violence incidents.*\n",
        "\n",
        "> *Using this function we try and compute a matrix of all the states compared with each other and putting that value in a heatmap to get a more interactive insight about that particular state when compared to others*"
      ]
    },
    {
      "metadata": {
        "id": "A9PVauywryD5",
        "colab_type": "code",
        "colab": {
          "base_uri": "https://localhost:8080/",
          "height": 168
        },
        "outputId": "211c1530-ad63-4476-f771-84a7c06665fc"
      },
      "cell_type": "code",
      "source": [
        "\n",
        "df2_new = pd.DataFrame(index=states, columns=states, dtype=np.float)\n",
        "\n",
        "# populate each cell in dataframe with persona_less_personb()\n",
        "for a, b in itertools.permutations(states, 2):\n",
        "    df2_new.ix[a, b] = state_comparison(a, b)\n",
        "    \n",
        "# populate the diagonal\n",
        "for a in states:\n",
        "    df2_new.ix[a, a] = 0.5"
      ],
      "execution_count": 323,
      "outputs": [
        {
          "output_type": "stream",
          "text": [
            "/usr/local/lib/python3.6/dist-packages/ipykernel_launcher.py:6: DeprecationWarning: \n",
            ".ix is deprecated. Please use\n",
            ".loc for label based indexing or\n",
            ".iloc for positional indexing\n",
            "\n",
            "See the documentation here:\n",
            "http://pandas.pydata.org/pandas-docs/stable/indexing.html#ix-indexer-is-deprecated\n",
            "  \n"
          ],
          "name": "stderr"
        }
      ]
    },
    {
      "metadata": {
        "id": "xqcESZUWSXhs",
        "colab_type": "code",
        "colab": {
          "base_uri": "https://localhost:8080/",
          "height": 290
        },
        "outputId": "97258ec9-c03d-4f36-8bdb-572f99af08a2"
      },
      "cell_type": "code",
      "source": [
        "df2_new.head()"
      ],
      "execution_count": 324,
      "outputs": [
        {
          "output_type": "execute_result",
          "data": {
            "text/html": [
              "<div>\n",
              "<style scoped>\n",
              "    .dataframe tbody tr th:only-of-type {\n",
              "        vertical-align: middle;\n",
              "    }\n",
              "\n",
              "    .dataframe tbody tr th {\n",
              "        vertical-align: top;\n",
              "    }\n",
              "\n",
              "    .dataframe thead th {\n",
              "        text-align: right;\n",
              "    }\n",
              "</style>\n",
              "<table border=\"1\" class=\"dataframe\">\n",
              "  <thead>\n",
              "    <tr style=\"text-align: right;\">\n",
              "      <th></th>\n",
              "      <th>Alabama</th>\n",
              "      <th>Alaska</th>\n",
              "      <th>Arizona</th>\n",
              "      <th>Arkansas</th>\n",
              "      <th>California</th>\n",
              "      <th>Colorado</th>\n",
              "      <th>Connecticut</th>\n",
              "      <th>Delaware</th>\n",
              "      <th>District of Columbia</th>\n",
              "      <th>Florida</th>\n",
              "      <th>...</th>\n",
              "      <th>South Dakota</th>\n",
              "      <th>Tennessee</th>\n",
              "      <th>Texas</th>\n",
              "      <th>Utah</th>\n",
              "      <th>Vermont</th>\n",
              "      <th>Virginia</th>\n",
              "      <th>Washington</th>\n",
              "      <th>West Virginia</th>\n",
              "      <th>Wisconsin</th>\n",
              "      <th>Wyoming</th>\n",
              "    </tr>\n",
              "  </thead>\n",
              "  <tbody>\n",
              "    <tr>\n",
              "      <th>Alabama</th>\n",
              "      <td>0.500000</td>\n",
              "      <td>0.442425</td>\n",
              "      <td>0.321850</td>\n",
              "      <td>0.371075</td>\n",
              "      <td>0.362000</td>\n",
              "      <td>0.400400</td>\n",
              "      <td>0.423100</td>\n",
              "      <td>0.400525</td>\n",
              "      <td>0.408075</td>\n",
              "      <td>0.376975</td>\n",
              "      <td>...</td>\n",
              "      <td>0.462750</td>\n",
              "      <td>0.355250</td>\n",
              "      <td>0.350875</td>\n",
              "      <td>0.392550</td>\n",
              "      <td>0.498800</td>\n",
              "      <td>0.351775</td>\n",
              "      <td>0.399575</td>\n",
              "      <td>0.397600</td>\n",
              "      <td>0.390700</td>\n",
              "      <td>0.502225</td>\n",
              "    </tr>\n",
              "    <tr>\n",
              "      <th>Alaska</th>\n",
              "      <td>0.176475</td>\n",
              "      <td>0.500000</td>\n",
              "      <td>0.169275</td>\n",
              "      <td>0.202600</td>\n",
              "      <td>0.193850</td>\n",
              "      <td>0.219350</td>\n",
              "      <td>0.237400</td>\n",
              "      <td>0.214950</td>\n",
              "      <td>0.227375</td>\n",
              "      <td>0.210325</td>\n",
              "      <td>...</td>\n",
              "      <td>0.267825</td>\n",
              "      <td>0.190200</td>\n",
              "      <td>0.187950</td>\n",
              "      <td>0.211275</td>\n",
              "      <td>0.291725</td>\n",
              "      <td>0.183675</td>\n",
              "      <td>0.218950</td>\n",
              "      <td>0.220550</td>\n",
              "      <td>0.219350</td>\n",
              "      <td>0.295600</td>\n",
              "    </tr>\n",
              "    <tr>\n",
              "      <th>Arizona</th>\n",
              "      <td>0.354275</td>\n",
              "      <td>0.471875</td>\n",
              "      <td>0.500000</td>\n",
              "      <td>0.391500</td>\n",
              "      <td>0.380000</td>\n",
              "      <td>0.427200</td>\n",
              "      <td>0.449575</td>\n",
              "      <td>0.421900</td>\n",
              "      <td>0.429625</td>\n",
              "      <td>0.397050</td>\n",
              "      <td>...</td>\n",
              "      <td>0.484475</td>\n",
              "      <td>0.377350</td>\n",
              "      <td>0.374700</td>\n",
              "      <td>0.414500</td>\n",
              "      <td>0.525425</td>\n",
              "      <td>0.372725</td>\n",
              "      <td>0.419650</td>\n",
              "      <td>0.420475</td>\n",
              "      <td>0.418225</td>\n",
              "      <td>0.525475</td>\n",
              "    </tr>\n",
              "    <tr>\n",
              "      <th>Arkansas</th>\n",
              "      <td>0.284000</td>\n",
              "      <td>0.383725</td>\n",
              "      <td>0.269050</td>\n",
              "      <td>0.500000</td>\n",
              "      <td>0.308725</td>\n",
              "      <td>0.341850</td>\n",
              "      <td>0.368375</td>\n",
              "      <td>0.339675</td>\n",
              "      <td>0.348000</td>\n",
              "      <td>0.321150</td>\n",
              "      <td>...</td>\n",
              "      <td>0.399175</td>\n",
              "      <td>0.302900</td>\n",
              "      <td>0.300175</td>\n",
              "      <td>0.338500</td>\n",
              "      <td>0.436175</td>\n",
              "      <td>0.297325</td>\n",
              "      <td>0.338825</td>\n",
              "      <td>0.343925</td>\n",
              "      <td>0.338400</td>\n",
              "      <td>0.437425</td>\n",
              "    </tr>\n",
              "    <tr>\n",
              "      <th>California</th>\n",
              "      <td>0.297475</td>\n",
              "      <td>0.404975</td>\n",
              "      <td>0.282050</td>\n",
              "      <td>0.330600</td>\n",
              "      <td>0.500000</td>\n",
              "      <td>0.361425</td>\n",
              "      <td>0.379600</td>\n",
              "      <td>0.358075</td>\n",
              "      <td>0.364975</td>\n",
              "      <td>0.337875</td>\n",
              "      <td>...</td>\n",
              "      <td>0.419550</td>\n",
              "      <td>0.318875</td>\n",
              "      <td>0.314300</td>\n",
              "      <td>0.351775</td>\n",
              "      <td>0.450725</td>\n",
              "      <td>0.308750</td>\n",
              "      <td>0.354000</td>\n",
              "      <td>0.359225</td>\n",
              "      <td>0.351200</td>\n",
              "      <td>0.456850</td>\n",
              "    </tr>\n",
              "  </tbody>\n",
              "</table>\n",
              "<p>5 rows × 51 columns</p>\n",
              "</div>"
            ],
            "text/plain": [
              "             Alabama    Alaska   Arizona  Arkansas  California  Colorado  \\\n",
              "Alabama     0.500000  0.442425  0.321850  0.371075    0.362000  0.400400   \n",
              "Alaska      0.176475  0.500000  0.169275  0.202600    0.193850  0.219350   \n",
              "Arizona     0.354275  0.471875  0.500000  0.391500    0.380000  0.427200   \n",
              "Arkansas    0.284000  0.383725  0.269050  0.500000    0.308725  0.341850   \n",
              "California  0.297475  0.404975  0.282050  0.330600    0.500000  0.361425   \n",
              "\n",
              "            Connecticut  Delaware  District of Columbia   Florida    ...     \\\n",
              "Alabama        0.423100  0.400525              0.408075  0.376975    ...      \n",
              "Alaska         0.237400  0.214950              0.227375  0.210325    ...      \n",
              "Arizona        0.449575  0.421900              0.429625  0.397050    ...      \n",
              "Arkansas       0.368375  0.339675              0.348000  0.321150    ...      \n",
              "California     0.379600  0.358075              0.364975  0.337875    ...      \n",
              "\n",
              "            South Dakota  Tennessee     Texas      Utah   Vermont  Virginia  \\\n",
              "Alabama         0.462750   0.355250  0.350875  0.392550  0.498800  0.351775   \n",
              "Alaska          0.267825   0.190200  0.187950  0.211275  0.291725  0.183675   \n",
              "Arizona         0.484475   0.377350  0.374700  0.414500  0.525425  0.372725   \n",
              "Arkansas        0.399175   0.302900  0.300175  0.338500  0.436175  0.297325   \n",
              "California      0.419550   0.318875  0.314300  0.351775  0.450725  0.308750   \n",
              "\n",
              "            Washington  West Virginia  Wisconsin   Wyoming  \n",
              "Alabama       0.399575       0.397600   0.390700  0.502225  \n",
              "Alaska        0.218950       0.220550   0.219350  0.295600  \n",
              "Arizona       0.419650       0.420475   0.418225  0.525475  \n",
              "Arkansas      0.338825       0.343925   0.338400  0.437425  \n",
              "California    0.354000       0.359225   0.351200  0.456850  \n",
              "\n",
              "[5 rows x 51 columns]"
            ]
          },
          "metadata": {
            "tags": []
          },
          "execution_count": 324
        }
      ]
    },
    {
      "metadata": {
        "id": "Pa4ut2ifsrks",
        "colab_type": "code",
        "colab": {
          "base_uri": "https://localhost:8080/",
          "height": 1283
        },
        "outputId": "afd23560-f566-4eb3-d749-05b8641bea85"
      },
      "cell_type": "code",
      "source": [
        "sb.set(rc={'figure.figsize':(20,20)})\n",
        "sb.heatmap(df2_new.corr(),cmap=\"Spectral\")\n",
        "plt.xlabel(\"State\")\n",
        "plt.ylabel(\"State\")\n",
        "plt.title(\"A probabilistic comparison between states \",fontsize=17)"
      ],
      "execution_count": 326,
      "outputs": [
        {
          "output_type": "execute_result",
          "data": {
            "text/plain": [
              "Text(0.5,1,'A probabilistic comparison between states ')"
            ]
          },
          "metadata": {
            "tags": []
          },
          "execution_count": 326
        },
        {
          "output_type": "display_data",
          "data": {
            "image/png": "[encoded data removed]",
            "text/plain": [
              "<matplotlib.figure.Figure at 0x7f6ab58cacf8>"
            ]
          },
          "metadata": {
            "tags": []
          }
        }
      ]
    },
    {
      "metadata": {
        "id": "3U9E76KvA9Nv",
        "colab_type": "text"
      },
      "cell_type": "markdown",
      "source": [
        "**REFERENCES:**\n",
        "\n",
        "\n",
        "1.   <a > https://github.com/markdregan/Bayesian-Modelling-in-Python </a>\n",
        "2.   <a>  https://pymc-devs.github.io/pymc/README.html </a>\n",
        "\n"
      ]
    }
  ]
}
